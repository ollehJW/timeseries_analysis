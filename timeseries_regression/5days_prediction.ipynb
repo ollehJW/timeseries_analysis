{
 "cells": [
  {
   "cell_type": "markdown",
   "metadata": {},
   "source": [
    "## 1. 필요한 패키지 불러오기"
   ]
  },
  {
   "cell_type": "code",
   "execution_count": 174,
   "metadata": {},
   "outputs": [],
   "source": [
    "import numpy as np\n",
    "import pandas as pd\n",
    "import torch\n",
    "import os\n",
    "from torch import nn\n",
    "from torch.utils.data import Dataset\n",
    "from torch.autograd import Variable\n",
    "import matplotlib.pyplot as plt\n",
    "from fastprogress import master_bar, progress_bar\n",
    "from sklearn.preprocessing import StandardScaler, MinMaxScaler"
   ]
  },
  {
   "cell_type": "markdown",
   "metadata": {},
   "source": [
    "## 2. 데이터 불러오기"
   ]
  },
  {
   "cell_type": "code",
   "execution_count": 175,
   "metadata": {},
   "outputs": [],
   "source": [
    "data_dir = \"./data/카사코리아 투자 현황v2.xlsx\"\n",
    "time_column = '일자'\n",
    "format = '%y.%m.%d'"
   ]
  },
  {
   "cell_type": "code",
   "execution_count": 176,
   "metadata": {},
   "outputs": [
    {
     "name": "stderr",
     "output_type": "stream",
     "text": [
      "/tmp/ipykernel_21031/1548617826.py:7: SettingWithCopyWarning: \n",
      "A value is trying to be set on a copy of a slice from a DataFrame\n",
      "\n",
      "See the caveats in the documentation: https://pandas.pydata.org/pandas-docs/stable/user_guide/indexing.html#returning-a-view-versus-a-copy\n",
      "  data['코스피'][i] = data['코스피'][i-1]\n"
     ]
    },
    {
     "data": {
      "text/html": [
       "<div>\n",
       "<style scoped>\n",
       "    .dataframe tbody tr th:only-of-type {\n",
       "        vertical-align: middle;\n",
       "    }\n",
       "\n",
       "    .dataframe tbody tr th {\n",
       "        vertical-align: top;\n",
       "    }\n",
       "\n",
       "    .dataframe thead th {\n",
       "        text-align: right;\n",
       "    }\n",
       "</style>\n",
       "<table border=\"1\" class=\"dataframe\">\n",
       "  <thead>\n",
       "    <tr style=\"text-align: right;\">\n",
       "      <th></th>\n",
       "      <th>일자</th>\n",
       "      <th>거래량</th>\n",
       "      <th>시가</th>\n",
       "      <th>고가</th>\n",
       "      <th>저가</th>\n",
       "      <th>종가</th>\n",
       "      <th>배당금</th>\n",
       "      <th>환율</th>\n",
       "      <th>코스피</th>\n",
       "      <th>시장금리</th>\n",
       "    </tr>\n",
       "  </thead>\n",
       "  <tbody>\n",
       "    <tr>\n",
       "      <th>0</th>\n",
       "      <td>2021-07-27</td>\n",
       "      <td>7565</td>\n",
       "      <td>4980</td>\n",
       "      <td>5000</td>\n",
       "      <td>4900</td>\n",
       "      <td>4910</td>\n",
       "      <td>469841.269841</td>\n",
       "      <td>1153.2</td>\n",
       "      <td>3232.53</td>\n",
       "      <td>1.380</td>\n",
       "    </tr>\n",
       "    <tr>\n",
       "      <th>1</th>\n",
       "      <td>2021-07-28</td>\n",
       "      <td>5898</td>\n",
       "      <td>4930</td>\n",
       "      <td>4940</td>\n",
       "      <td>4840</td>\n",
       "      <td>4900</td>\n",
       "      <td>469841.269841</td>\n",
       "      <td>1150.2</td>\n",
       "      <td>3236.86</td>\n",
       "      <td>1.419</td>\n",
       "    </tr>\n",
       "    <tr>\n",
       "      <th>2</th>\n",
       "      <td>2021-07-29</td>\n",
       "      <td>3750</td>\n",
       "      <td>4900</td>\n",
       "      <td>4920</td>\n",
       "      <td>4820</td>\n",
       "      <td>4820</td>\n",
       "      <td>469841.269841</td>\n",
       "      <td>1154.8</td>\n",
       "      <td>3242.65</td>\n",
       "      <td>1.431</td>\n",
       "    </tr>\n",
       "    <tr>\n",
       "      <th>3</th>\n",
       "      <td>2021-07-30</td>\n",
       "      <td>3308</td>\n",
       "      <td>4840</td>\n",
       "      <td>4860</td>\n",
       "      <td>4800</td>\n",
       "      <td>4840</td>\n",
       "      <td>469841.269841</td>\n",
       "      <td>1147.4</td>\n",
       "      <td>3202.32</td>\n",
       "      <td>1.417</td>\n",
       "    </tr>\n",
       "    <tr>\n",
       "      <th>4</th>\n",
       "      <td>2021-08-02</td>\n",
       "      <td>2584</td>\n",
       "      <td>5000</td>\n",
       "      <td>5000</td>\n",
       "      <td>4840</td>\n",
       "      <td>4870</td>\n",
       "      <td>469841.269841</td>\n",
       "      <td>1147.5</td>\n",
       "      <td>3223.04</td>\n",
       "      <td>1.435</td>\n",
       "    </tr>\n",
       "  </tbody>\n",
       "</table>\n",
       "</div>"
      ],
      "text/plain": [
       "          일자   거래량    시가    고가    저가    종가            배당금      환율      코스피  \\\n",
       "0 2021-07-27  7565  4980  5000  4900  4910  469841.269841  1153.2  3232.53   \n",
       "1 2021-07-28  5898  4930  4940  4840  4900  469841.269841  1150.2  3236.86   \n",
       "2 2021-07-29  3750  4900  4920  4820  4820  469841.269841  1154.8  3242.65   \n",
       "3 2021-07-30  3308  4840  4860  4800  4840  469841.269841  1147.4  3202.32   \n",
       "4 2021-08-02  2584  5000  5000  4840  4870  469841.269841  1147.5  3223.04   \n",
       "\n",
       "    시장금리  \n",
       "0  1.380  \n",
       "1  1.419  \n",
       "2  1.431  \n",
       "3  1.417  \n",
       "4  1.435  "
      ]
     },
     "execution_count": 176,
     "metadata": {},
     "output_type": "execute_result"
    }
   ],
   "source": [
    "data = pd.read_excel(data_dir)\n",
    "data[time_column] = pd.to_datetime(data[time_column], format=format)\n",
    "data = data.sort_values(by = time_column).reset_index(drop = True)\n",
    "data.columns = ['일자', '거래량', '시가', '고가', '저가', '종가', '배당금', '환율', '코스피', '시장금리']\n",
    "for i in range(data.shape[0]):\n",
    "    if pd.isna(data['코스피'][i]):\n",
    "        data['코스피'][i] = data['코스피'][i-1]\n",
    "data.head()"
   ]
  },
  {
   "cell_type": "markdown",
   "metadata": {},
   "source": [
    "### (1) Input & Target Variable 정의"
   ]
  },
  {
   "cell_type": "code",
   "execution_count": 177,
   "metadata": {},
   "outputs": [],
   "source": [
    "Input_columns = ['거래량', '시가', '고가', '저가', '배당금', '환율', '코스피', '시장금리', '종가']\n",
    "Target_column = '종가'"
   ]
  },
  {
   "cell_type": "markdown",
   "metadata": {},
   "source": [
    "### (2) 정규화"
   ]
  },
  {
   "cell_type": "code",
   "execution_count": 178,
   "metadata": {},
   "outputs": [],
   "source": [
    "Normalization_Method = 'MinMax'  ## (Z-norm, MinMax)"
   ]
  },
  {
   "cell_type": "code",
   "execution_count": 179,
   "metadata": {},
   "outputs": [
    {
     "name": "stdout",
     "output_type": "stream",
     "text": [
      "Min-Max Normalization method is selected.\n"
     ]
    }
   ],
   "source": [
    "if Normalization_Method == 'Z-norm':\n",
    "    print(\"Z-norm method is selected.\")\n",
    "    Scalar_transform = StandardScaler().fit(data.loc[:, [Target_column]])\n",
    "    data.loc[:, [Target_column]] = Scalar_transform.transform(data.loc[:, [Target_column]])\n",
    "    Input_transform = StandardScaler().fit(data.loc[:, Input_columns])\n",
    "    data.loc[:, Input_columns] = Input_transform.transform(data.loc[:, Input_columns])\n",
    "elif Normalization_Method == 'MinMax':\n",
    "    print(\"Min-Max Normalization method is selected.\")\n",
    "    Scalar_transform = MinMaxScaler(feature_range=(-1, 1)).fit(data.loc[:, [Target_column]])\n",
    "    data.loc[:, [Target_column]] = Scalar_transform.transform(data.loc[:, [Target_column]])\n",
    "    Input_transform = MinMaxScaler().fit(data.loc[:, Input_columns])\n",
    "    data.loc[:, Input_columns] = Input_transform.transform(data.loc[:, Input_columns])\n",
    "else:\n",
    "    print(\"Error: Choice Nomaliztion Method in (Z-norm, MinMax).\")\n"
   ]
  },
  {
   "cell_type": "markdown",
   "metadata": {},
   "source": [
    "### (3) Transform Dataset with Sliding Windows"
   ]
  },
  {
   "cell_type": "code",
   "execution_count": 180,
   "metadata": {},
   "outputs": [],
   "source": [
    "dataset = np.array(data.loc[:, [Target_column]])"
   ]
  },
  {
   "cell_type": "code",
   "execution_count": 181,
   "metadata": {},
   "outputs": [],
   "source": [
    "def sliding_windows(data, Input_columns, Target_column, seq_length):\n",
    "    x = []\n",
    "    y = []\n",
    "\n",
    "    data_y = np.array(data.loc[:, [Target_column]])\n",
    "    data_x = np.array(data.loc[:, Input_columns])\n",
    "    \n",
    "\n",
    "    for i in range(len(data_y)-seq_length):\n",
    "        _x = data_x[i:(i+seq_length)]\n",
    "        _y = data_y[i+seq_length]\n",
    "        x.append(_x)\n",
    "        y.append(_y)\n",
    "\n",
    "    return np.array(x),np.array(y)"
   ]
  },
  {
   "cell_type": "code",
   "execution_count": 182,
   "metadata": {},
   "outputs": [
    {
     "name": "stdout",
     "output_type": "stream",
     "text": [
      "(494, 5, 9)\n",
      "(494, 1)\n"
     ]
    }
   ],
   "source": [
    "seq_length = 5\n",
    "x, y = sliding_windows(data, Input_columns, Target_column, seq_length)\n",
    "print(x.shape)\n",
    "print(y.shape)"
   ]
  },
  {
   "cell_type": "markdown",
   "metadata": {},
   "source": [
    "### (4) Make Torch Dataset"
   ]
  },
  {
   "cell_type": "code",
   "execution_count": 183,
   "metadata": {},
   "outputs": [],
   "source": [
    "train_ratio = 0.8"
   ]
  },
  {
   "cell_type": "code",
   "execution_count": 184,
   "metadata": {},
   "outputs": [],
   "source": [
    "train_size = int(len(y) * train_ratio)\n",
    "test_size = len(y) - train_size\n",
    "\n",
    "dataX = Variable(torch.Tensor(np.array(x)))\n",
    "dataY = Variable(torch.Tensor(np.array(y)))\n",
    "\n",
    "trainX = Variable(torch.Tensor(np.array(x[0:train_size])))\n",
    "trainY = Variable(torch.Tensor(np.array(y[0:train_size])))\n",
    "\n",
    "testX = Variable(torch.Tensor(np.array(x[train_size:len(x)])))\n",
    "testY = Variable(torch.Tensor(np.array(y[train_size:len(y)])))"
   ]
  },
  {
   "cell_type": "markdown",
   "metadata": {},
   "source": [
    "## 3. LSTM Model 생성"
   ]
  },
  {
   "cell_type": "markdown",
   "metadata": {},
   "source": [
    "### (1) Model 생성"
   ]
  },
  {
   "cell_type": "code",
   "execution_count": 185,
   "metadata": {},
   "outputs": [],
   "source": [
    "device = 'cuda:0'"
   ]
  },
  {
   "cell_type": "code",
   "execution_count": 186,
   "metadata": {},
   "outputs": [],
   "source": [
    "class LSTM(nn.Module):\n",
    "\n",
    "    def __init__(self, num_classes, input_size, hidden_size, num_layers):\n",
    "        super(LSTM, self).__init__()\n",
    "        \n",
    "        self.num_classes = num_classes\n",
    "        self.num_layers = num_layers\n",
    "        self.input_size = input_size\n",
    "        self.hidden_size = hidden_size\n",
    "        #self.seq_length = seq_length\n",
    "        self.dropout = nn.Dropout(p=0.25)\n",
    "        \n",
    "        self.lstm = nn.LSTM(input_size=input_size, hidden_size=hidden_size,\n",
    "                            num_layers=num_layers, batch_first=True,dropout = 0.25)\n",
    "        \n",
    "        self.fc = nn.Linear(hidden_size, num_classes)\n",
    "\n",
    "    def forward(self, x):\n",
    "        h_0 = Variable(torch.zeros(\n",
    "            self.num_layers, x.size(0), self.hidden_size).to(device))\n",
    "        \n",
    "        c_0 = Variable(torch.zeros(\n",
    "            self.num_layers, x.size(0), self.hidden_size).to(device))\n",
    "        \n",
    "        # Propagate input through LSTM\n",
    "        ula, (h_out, _) = self.lstm(x, (h_0, c_0))\n",
    "        \n",
    "        h_out = h_out.view(-1, self.hidden_size)\n",
    "        \n",
    "        out = self.fc(h_out)\n",
    "        out = self.dropout(out)\n",
    "       \n",
    "        return out"
   ]
  },
  {
   "cell_type": "markdown",
   "metadata": {},
   "source": [
    "### (2) Loss 정의"
   ]
  },
  {
   "cell_type": "code",
   "execution_count": 187,
   "metadata": {},
   "outputs": [],
   "source": [
    "class RMSELoss(nn.Module):\n",
    "    def __init__(self):\n",
    "        super().__init__()\n",
    "        self.mse = nn.MSELoss()\n",
    "        \n",
    "    def forward(self,yhat,y):\n",
    "        return torch.sqrt(self.mse(yhat,y))"
   ]
  },
  {
   "cell_type": "markdown",
   "metadata": {},
   "source": [
    "## 4. Training"
   ]
  },
  {
   "cell_type": "markdown",
   "metadata": {},
   "source": [
    "### (1) 학습 파라미터 정의\n"
   ]
  },
  {
   "cell_type": "code",
   "execution_count": 189,
   "metadata": {},
   "outputs": [],
   "source": [
    "num_epochs = 1000\n",
    "learning_rate = 1e-4\n",
    "input_size = 9\n",
    "hidden_size = 64\n",
    "num_layers = 1\n",
    "num_classes = 1\n",
    "\n",
    "best_model_path = './experiment'\n",
    "os.makedirs(best_model_path, exist_ok = True)\n",
    "os.makedirs(os.path.join(best_model_path, 'lstm_model'), exist_ok = True)\n"
   ]
  },
  {
   "cell_type": "markdown",
   "metadata": {},
   "source": [
    "### (2) LSTM 모델 정의"
   ]
  },
  {
   "cell_type": "code",
   "execution_count": 190,
   "metadata": {},
   "outputs": [
    {
     "name": "stderr",
     "output_type": "stream",
     "text": [
      "/home/jongwook95.lee/miniforge3/envs/torch100/lib/python3.8/site-packages/torch/nn/modules/rnn.py:62: UserWarning: dropout option adds dropout after all but last recurrent layer, so non-zero dropout expects num_layers greater than 1, but got dropout=0.25 and num_layers=1\n",
      "  warnings.warn(\"dropout option adds dropout after all but last \"\n"
     ]
    },
    {
     "data": {
      "text/plain": [
       "LSTM(\n",
       "  (dropout): Dropout(p=0.25, inplace=False)\n",
       "  (lstm): LSTM(9, 64, batch_first=True, dropout=0.25)\n",
       "  (fc): Linear(in_features=64, out_features=1, bias=True)\n",
       ")"
      ]
     },
     "execution_count": 190,
     "metadata": {},
     "output_type": "execute_result"
    }
   ],
   "source": [
    "lstm = LSTM(num_classes, input_size, hidden_size, num_layers)\n",
    "lstm.to(device)"
   ]
  },
  {
   "cell_type": "markdown",
   "metadata": {},
   "source": [
    "### (3) Set Criterion Optimzer and scheduler"
   ]
  },
  {
   "cell_type": "code",
   "execution_count": 191,
   "metadata": {},
   "outputs": [],
   "source": [
    "criterion = torch.nn.MSELoss().to(device)    # mean-squared error for regression\n",
    "optimizer = torch.optim.Adam(lstm.parameters(), lr=learning_rate,weight_decay=1e-5)\n",
    "scheduler = torch.optim.lr_scheduler.ReduceLROnPlateau(optimizer,  patience=500,factor =0.5 ,min_lr=1e-7, eps=1e-08)"
   ]
  },
  {
   "cell_type": "markdown",
   "metadata": {},
   "source": [
    "### (4) Train"
   ]
  },
  {
   "cell_type": "code",
   "execution_count": 192,
   "metadata": {},
   "outputs": [
    {
     "data": {
      "text/html": [
       "\n",
       "<style>\n",
       "    /* Turns off some styling */\n",
       "    progress {\n",
       "        /* gets rid of default border in Firefox and Opera. */\n",
       "        border: none;\n",
       "        /* Needs to be in here for Safari polyfill so background images work as expected. */\n",
       "        background-size: auto;\n",
       "    }\n",
       "    progress:not([value]), progress:not([value])::-webkit-progress-bar {\n",
       "        background: repeating-linear-gradient(45deg, #7e7e7e, #7e7e7e 10px, #5c5c5c 10px, #5c5c5c 20px);\n",
       "    }\n",
       "    .progress-bar-interrupted, .progress-bar-interrupted::-webkit-progress-bar {\n",
       "        background: #F44336;\n",
       "    }\n",
       "</style>\n"
      ],
      "text/plain": [
       "<IPython.core.display.HTML object>"
      ]
     },
     "metadata": {},
     "output_type": "display_data"
    },
    {
     "data": {
      "text/html": [
       "\n",
       "    <div>\n",
       "      <progress value='1000' class='' max='1000' style='width:300px; height:20px; vertical-align: middle;'></progress>\n",
       "      100.00% [1000/1000 00:03&lt;00:00]\n",
       "    </div>\n",
       "    "
      ],
      "text/plain": [
       "<IPython.core.display.HTML object>"
      ]
     },
     "metadata": {},
     "output_type": "display_data"
    },
    {
     "name": "stdout",
     "output_type": "stream",
     "text": [
      "Epoch: 0, loss: 0.76565 valid loss:  0.14611 \n",
      "Epoch: 50, loss: 0.56617 valid loss:  0.07963 \n",
      "Epoch: 100, loss: 0.37192 valid loss:  0.02555 \n",
      "Epoch: 150, loss: 0.21793 valid loss:  0.01537 \n",
      "Epoch: 200, loss: 0.18169 valid loss:  0.03746 \n",
      "Epoch: 250, loss: 0.14443 valid loss:  0.02727 \n",
      "Epoch: 300, loss: 0.15540 valid loss:  0.02005 \n",
      "Epoch: 350, loss: 0.16493 valid loss:  0.01468 \n",
      "Epoch: 400, loss: 0.13064 valid loss:  0.01116 \n",
      "Epoch: 450, loss: 0.14489 valid loss:  0.00925 \n",
      "Epoch: 500, loss: 0.15252 valid loss:  0.00855 \n",
      "Epoch: 550, loss: 0.12525 valid loss:  0.00853 \n",
      "Epoch: 600, loss: 0.13348 valid loss:  0.00887 \n",
      "Epoch: 650, loss: 0.16092 valid loss:  0.00937 \n",
      "Epoch: 700, loss: 0.15910 valid loss:  0.00989 \n",
      "Epoch: 750, loss: 0.14328 valid loss:  0.01032 \n",
      "Epoch: 800, loss: 0.12775 valid loss:  0.01080 \n",
      "Epoch: 850, loss: 0.13311 valid loss:  0.01116 \n",
      "Epoch: 900, loss: 0.14995 valid loss:  0.01162 \n",
      "Epoch: 950, loss: 0.16760 valid loss:  0.01181 \n",
      "Best LSTM Model: Epoch = 524, Valid Loss = 0.008493167348206043\n"
     ]
    }
   ],
   "source": [
    "best_rmse = np.inf\n",
    "best_epoch = 0\n",
    "\n",
    "for epoch in progress_bar(range(num_epochs)): \n",
    "    lstm.train()\n",
    "    outputs = lstm(trainX.to(device))\n",
    "    optimizer.zero_grad()\n",
    "    \n",
    "    # obtain the loss function\n",
    "    loss = criterion(outputs, trainY.to(device))\n",
    "    loss.backward()\n",
    "    optimizer.step()\n",
    "    \n",
    "    #Evaluate on test     \n",
    "    lstm.eval()\n",
    "    valid = lstm(testX.to(device))\n",
    "    vall_loss = criterion(valid, testY.to(device))\n",
    "    scheduler.step(vall_loss)\n",
    "\n",
    "    if vall_loss.cpu().data.numpy() < best_rmse:\n",
    "      best_epoch = epoch\n",
    "      best_rmse = vall_loss.cpu().data.numpy()\n",
    "      torch.save(lstm, os.path.join(os.path.join(best_model_path, 'lstm_model'), 'best_lstm_model.pt'))\n",
    "\n",
    "    \n",
    "    if epoch % 50 == 0:\n",
    "      print(\"Epoch: %d, loss: %1.5f valid loss:  %1.5f \" %(epoch, loss.cpu().item(),vall_loss.cpu().item()))\n",
    "\n",
    "print(\"Best LSTM Model: Epoch = {}, Valid Loss = {}\".format(best_epoch, best_rmse))"
   ]
  },
  {
   "cell_type": "markdown",
   "metadata": {},
   "source": [
    "### (5) Load Best LSTM Model"
   ]
  },
  {
   "cell_type": "code",
   "execution_count": 193,
   "metadata": {},
   "outputs": [],
   "source": [
    "lstm = torch.load(os.path.join(os.path.join(best_model_path, 'lstm_model'), 'best_lstm_model.pt'))"
   ]
  },
  {
   "cell_type": "markdown",
   "metadata": {},
   "source": [
    "## 5. Inference"
   ]
  },
  {
   "cell_type": "markdown",
   "metadata": {},
   "source": [
    "### (1) Train 성능 평가"
   ]
  },
  {
   "cell_type": "code",
   "execution_count": 194,
   "metadata": {},
   "outputs": [
    {
     "name": "stdout",
     "output_type": "stream",
     "text": [
      "Train RMSE: 0.21071858879376235\n"
     ]
    }
   ],
   "source": [
    "lstm.eval()\n",
    "train_predict = lstm(trainX.to(device))\n",
    "data_predict = train_predict.cpu().data.numpy()\n",
    "dataY_plot = trainY.data.numpy()\n",
    "\n",
    "from sklearn.metrics import mean_squared_error\n",
    "RMSE = mean_squared_error(data_predict[:, 0], dataY_plot[:, 0])**0.5\n",
    "print(\"Train RMSE: {}\".format(RMSE))"
   ]
  },
  {
   "cell_type": "code",
   "execution_count": 195,
   "metadata": {},
   "outputs": [
    {
     "name": "stdout",
     "output_type": "stream",
     "text": [
      "Train Error 최솟값: 0.00014322996139526367\n",
      "Train Error 1 분위수: 0.13933943212032318\n",
      "Train Error 중앙값: 0.21546000242233276\n",
      "Train Error 평균: 0.19340340793132782\n",
      "Train Error 3분위수: 0.2494995892047882\n",
      "Train Error 최댓값: 0.41779541969299316\n"
     ]
    }
   ],
   "source": [
    "train_error = np.abs(data_predict[:, 0] - dataY_plot[:, 0])\n",
    "print(\"Train Error 최솟값: {}\".format(min(train_error)))\n",
    "print(\"Train Error 1 분위수: {}\".format(np.percentile(train_error, 25)))\n",
    "print(\"Train Error 중앙값: {}\".format(np.median(train_error)))\n",
    "print(\"Train Error 평균: {}\".format(np.mean(train_error)))\n",
    "print(\"Train Error 3분위수: {}\".format(np.percentile(train_error, 75)))\n",
    "print(\"Train Error 최댓값: {}\".format(max(train_error)))"
   ]
  },
  {
   "cell_type": "markdown",
   "metadata": {},
   "source": [
    "### (2) Test 성능 평가"
   ]
  },
  {
   "cell_type": "code",
   "execution_count": 196,
   "metadata": {},
   "outputs": [
    {
     "name": "stdout",
     "output_type": "stream",
     "text": [
      "Test RMSE: 0.09215837681341545\n"
     ]
    }
   ],
   "source": [
    "lstm.eval()\n",
    "train_predict = lstm(testX.to(device))\n",
    "data_predict = train_predict.cpu().data.numpy()\n",
    "dataY_plot = testY.data.numpy()\n",
    "\n",
    "from sklearn.metrics import mean_squared_error\n",
    "RMSE = mean_squared_error(data_predict[:, 0], dataY_plot[:, 0])**0.5\n",
    "print(\"Test RMSE: {}\".format(RMSE))"
   ]
  },
  {
   "cell_type": "code",
   "execution_count": 197,
   "metadata": {},
   "outputs": [
    {
     "name": "stdout",
     "output_type": "stream",
     "text": [
      "Test Error 최솟값: 0.001529097557067871\n",
      "Test Error 1 분위수: 0.021065689623355865\n",
      "Test Error 중앙값: 0.045630618929862976\n",
      "Test Error 평균: 0.06336068361997604\n",
      "Test Error 3분위수: 0.07846856117248535\n",
      "Test Error 최댓값: 0.4236128032207489\n"
     ]
    }
   ],
   "source": [
    "test_error = np.abs(data_predict[:, 0] - dataY_plot[:, 0])\n",
    "print(\"Test Error 최솟값: {}\".format(min(test_error)))\n",
    "print(\"Test Error 1 분위수: {}\".format(np.percentile(test_error, 25)))\n",
    "print(\"Test Error 중앙값: {}\".format(np.median(test_error)))\n",
    "print(\"Test Error 평균: {}\".format(np.mean(test_error)))\n",
    "print(\"Test Error 3분위수: {}\".format(np.percentile(test_error, 75)))\n",
    "print(\"Test Error 최댓값: {}\".format(max(test_error)))"
   ]
  },
  {
   "cell_type": "markdown",
   "metadata": {},
   "source": [
    "### (3) 예측 시각화"
   ]
  },
  {
   "cell_type": "markdown",
   "metadata": {},
   "source": [
    "#### - Test 구간에 대해서만"
   ]
  },
  {
   "cell_type": "code",
   "execution_count": 198,
   "metadata": {},
   "outputs": [
    {
     "data": {
      "image/png": "[encoded data removed]",
      "text/plain": [
       "<Figure size 1520x480 with 1 Axes>"
      ]
     },
     "metadata": {},
     "output_type": "display_data"
    }
   ],
   "source": [
    "dates_list = data['일자'][-testX.shape[0]:]\n",
    "\n",
    "lstm.eval()\n",
    "train_predict = lstm(testX.to(device))\n",
    "data_predict = train_predict.cpu().data.numpy()\n",
    "dataY_plot = testY.data.numpy()\n",
    "\n",
    "df_predict = pd.DataFrame(data_predict)\n",
    "df_predict = df_predict.set_index([dates_list])\n",
    "df_labels = pd.DataFrame(dataY_plot)\n",
    "df_labels = df_labels.set_index([dates_list])\n",
    "\n",
    "# Plot \n",
    "plt.figure(num=None, figsize=(19, 6), dpi=80, facecolor='w', edgecolor='k')\n",
    "plt.plot(df_labels[0])\n",
    "plt.plot(df_predict[0])\n",
    "plt.legend(['True', 'Prediction'],fontsize = 21)\n",
    "plt.suptitle('Time-Series Prediction Test Set',fontsize = 23)\n",
    "plt.xticks(fontsize=21 )\n",
    "plt.yticks(fontsize=21 )\n",
    "plt.ylabel(ylabel = 'Value',fontsize = 21)\n",
    "plt.xlabel(xlabel = 'Date',fontsize = 21)\n",
    "plt.show()"
   ]
  },
  {
   "cell_type": "code",
   "execution_count": null,
   "metadata": {},
   "outputs": [],
   "source": []
  }
 ],
 "metadata": {
  "interpreter": {
   "hash": "3a71ccbc68c1f2e468ff6892dfd73218f70dc17f86fe87d0654af868e89d8853"
  },
  "kernelspec": {
   "display_name": "Python 3.8.13 ('torch100')",
   "language": "python",
   "name": "python3"
  },
  "language_info": {
   "codemirror_mode": {
    "name": "ipython",
    "version": 3
   },
   "file_extension": ".py",
   "mimetype": "text/x-python",
   "name": "python",
   "nbconvert_exporter": "python",
   "pygments_lexer": "ipython3",
   "version": "3.8.13"
  },
  "orig_nbformat": 4
 },
 "nbformat": 4,
 "nbformat_minor": 2
}
